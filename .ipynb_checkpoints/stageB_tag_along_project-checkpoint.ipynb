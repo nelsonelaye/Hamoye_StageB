{
 "cells": [
  {
   "cell_type": "markdown",
   "id": "17538db4-622a-41ad-b33d-5ff7258a7a2f",
   "metadata": {},
   "source": [
    "## Predicting Energy Efficiency of a building\n",
    "\n",
    "Stage B Tag along project"
   ]
  },
  {
   "cell_type": "code",
   "execution_count": null,
   "id": "f92a85ae-55ec-4dce-84bd-6aef54078ba5",
   "metadata": {},
   "outputs": [],
   "source": [
    "import pandas as pd\n",
    "import numpy as np\n",
    "\n",
    "from sklearn.model_selection import train_test_split\n",
    "from sklearn.linear_model import LinearRegression\n",
    "from sklearn.linear_model import Ridge\n",
    "from sklearn.linear_model import Lasso\n",
    "from sklearn.metrics import mean_squared_error\n",
    "from sklearn.metrics import mean_absolute_error\n",
    "from sklearn.preprocessing import MinMaxScaler \n"
   ]
  },
  {
   "cell_type": "code",
   "execution_count": null,
   "id": "ed7a6ec2-e2e5-49a4-af1f-689b40bbb2a3",
   "metadata": {},
   "outputs": [],
   "source": [
    "df = pd.read_csv(\"energydata_complete.csv\")\n"
   ]
  },
  {
   "cell_type": "code",
   "execution_count": null,
   "id": "823505f7-f0b5-422b-af8a-0a9431a271b4",
   "metadata": {},
   "outputs": [],
   "source": [
    "df.describe()"
   ]
  },
  {
   "cell_type": "code",
   "execution_count": null,
   "id": "d2e8ac95-5641-4487-8034-294efb9257cb",
   "metadata": {},
   "outputs": [],
   "source": [
    "df.shape"
   ]
  },
  {
   "cell_type": "code",
   "execution_count": null,
   "id": "d7eea226-52d5-45ea-a400-569b30900c46",
   "metadata": {},
   "outputs": [],
   "source": [
    "df.columns"
   ]
  },
  {
   "cell_type": "code",
   "execution_count": null,
   "id": "354732fc-e00a-4b14-95de-1a55e6c241a3",
   "metadata": {},
   "outputs": [],
   "source": [
    "df.isna().sum()"
   ]
  },
  {
   "cell_type": "markdown",
   "id": "ec32b065-98c2-4c42-8959-b4daed584146",
   "metadata": {},
   "source": [
    "### Question 17\n",
    "\n",
    "From the dataset, fit a linear model on the relationship between the temperature in the living room in Celsius (x = T2) and the temperature outside the building (y = T6). What is the Root Mean Squared error in three D.P?"
   ]
  },
  {
   "cell_type": "code",
   "execution_count": null,
   "id": "cb8f4d95-1abb-4b07-9bd0-a310956ed274",
   "metadata": {},
   "outputs": [],
   "source": [
    "x = df['T2']\n",
    "\n",
    "arr = np.array(x)\n",
    "x = arr.reshape(-1, 1)\n",
    "\n",
    "\n",
    "print(x.shape)\n",
    "\n",
    "y = df['T6']\n",
    "print(y.shape)"
   ]
  },
  {
   "cell_type": "code",
   "execution_count": null,
   "id": "b66bbf26-a21d-4187-ae0e-3260eb3676c7",
   "metadata": {},
   "outputs": [],
   "source": [
    "x_train, x_test, y_train, y_test = train_test_split(x, y, random_state=42) "
   ]
  },
  {
   "cell_type": "code",
   "execution_count": null,
   "id": "fa7d1ac6-e316-41e4-8aa9-02f533a16199",
   "metadata": {},
   "outputs": [],
   "source": [
    " #Define our model\n",
    "linear_model = LinearRegression()\n",
    "\n",
    "#fit the model\n",
    "linear_model.fit(x_train, y_train)\n",
    "\n",
    "#predict the model\n",
    "predictions = linear_model.predict(x_test)\n",
    "\n",
    "rmse = mean_squared_error(y_test, predictions)\n",
    "print('RMS error is :', round(rmse, 3))"
   ]
  },
  {
   "cell_type": "markdown",
   "id": "ffbd13cf-39d4-45ef-bab4-a8adde18adbf",
   "metadata": {},
   "source": [
    "### Question 18\n",
    "\n",
    "Remove the following columns: [“date”, “lights”]. The target variable is “Appliances”. Use a 70-30 train-test set split with a  random state of 42 (for reproducibility). Normalize the dataset using the MinMaxScaler (Hint: Use the MinMaxScaler fit_transform and transform methods on the train and test set respectively). Run a multiple linear regression using the training set. Answer the following questions:\r\n",
    "\r\n",
    "What is the Mean Absolute Error (in three decimal places) for the  training set?"
   ]
  },
  {
   "cell_type": "code",
   "execution_count": null,
   "id": "cb8ac9b2-819e-490c-8e40-716e1d5643ad",
   "metadata": {},
   "outputs": [],
   "source": [
    "new_df = df.drop(['date', 'lights'], axis=1)\n",
    "new_df.head()"
   ]
  },
  {
   "cell_type": "code",
   "execution_count": null,
   "id": "29436cac-c0f7-4675-8c32-f71ca7fe1a54",
   "metadata": {},
   "outputs": [],
   "source": [
    "scaler = MinMaxScaler()\n",
    "\n",
    "normalised_df = pd.DataFrame(scaler.fit_transform(new_df), columns = new_df.columns)\n",
    "\n",
    "features_df =normalised_df.drop(['Appliances'], axis=1)\n",
    "\n",
    "energy_target = normalised_df['Appliances']\n",
    "\n",
    "# fix ValueError: Found input variables with inconsistent numbers of samples\n",
    "arr = np.array(energy_target)\n",
    "energy_target = arr.reshape(-1, 1)\n",
    "\n",
    "print(features_df.shape)\n",
    "print(energy_target.shape)\n"
   ]
  },
  {
   "cell_type": "code",
   "execution_count": null,
   "id": "941a0da6-8278-40e0-af8a-770077881d0c",
   "metadata": {},
   "outputs": [],
   "source": [
    "x_train, x_test, y_train, y_test = train_test_split(features_df, energy_target, train_size=0.7, test_size = 0.3, random_state=42)\n",
    "\n",
    "x_train = scaler.fit_transform(x_train)\n",
    "x_test = scaler.transform(x_test)\n",
    "\n",
    "y_train = scaler.fit_transform(y_train)\n",
    "y_test = scaler.transform(y_test)\n",
    "\n",
    "\n",
    "\n",
    "#Define the model\n",
    "linear_model = LinearRegression()\n",
    "\n",
    "#fit our model\n",
    "linear_model.fit(x_train, y_train)\n",
    "\n",
    "#prediction\n",
    "predictions = linear_model.predict(x_test)\n"
   ]
  },
  {
   "cell_type": "code",
   "execution_count": null,
   "id": "770265f4-33f5-4a99-9598-129612367305",
   "metadata": {},
   "outputs": [],
   "source": [
    "\n",
    "#The Mean Absolute Error(MAE) in two decimal places\n",
    "\n",
    "df_mae = mean_absolute_error(y_test, predictions)\n",
    "\n",
    "print(\"The Mean Absolute Error (MAE) is: \", round(df_mae,3))"
   ]
  },
  {
   "cell_type": "markdown",
   "id": "352205f7-e29e-4319-a5e6-b582d997e5ab",
   "metadata": {},
   "source": [
    "### Question 19 \n",
    "\n",
    "What is the Root Mean Squared Error (in three decimal places) for the training set?"
   ]
  },
  {
   "cell_type": "code",
   "execution_count": null,
   "id": "147fba7b-f2ae-4023-9d8c-317d94603404",
   "metadata": {},
   "outputs": [],
   "source": [
    "#  prevent ValueError: Found input variables with inconsistent numbers of samples\n",
    "new_y_train = pd.DataFrame(y_train).sample(n=len(predictions), replace=False, random_state=42)\n",
    "\n",
    "# print(\"y_train shape:\", y_train.shape)\n",
    "# print(\"predictions shape:\", predictions.shape)\n",
    "rmse = mean_squared_error(new_y_train, predictions)\n",
    "print(\"The Root Mean Squared Error is: \", round(rmse,3))"
   ]
  },
  {
   "cell_type": "markdown",
   "id": "696502e7-dbc7-4580-b8ca-ec9781183593",
   "metadata": {},
   "source": [
    "### Question 20\n",
    "\n",
    "What is the Mean Absolute Error (in three decimal places) for test set?"
   ]
  },
  {
   "cell_type": "code",
   "execution_count": null,
   "id": "6ffef662-82ca-4ac1-8d8e-c2278b1ff471",
   "metadata": {},
   "outputs": [],
   "source": [
    "mae = mean_absolute_error(y_test, predictions)\n",
    "print(\"The Mean Absolute Error is: \", round(mae,3))"
   ]
  },
  {
   "cell_type": "markdown",
   "id": "ef759a01-a807-4f6b-9e5d-f3e872bca1fc",
   "metadata": {},
   "source": [
    "### Question 21\n",
    "\n",
    "What is the Root Mean Squared Error (in three decimal places) for test set??"
   ]
  },
  {
   "cell_type": "code",
   "execution_count": null,
   "id": "c7d8087e-464a-4c6a-8ea6-46c343487b12",
   "metadata": {},
   "outputs": [],
   "source": [
    "rmse = mean_squared_error(y_test, predictions)\n",
    "print(\"The Root Mean Squared Error is: \", round(rmse,3))"
   ]
  },
  {
   "cell_type": "markdown",
   "id": "708092ce-22ad-4953-aee9-713fd746c782",
   "metadata": {},
   "source": [
    "### Question 23\n",
    "\n",
    "Train a ridge regression model with default parameters. Is there any change to the root mean squared error (RMSE) when evaluated on the test set?"
   ]
  },
  {
   "cell_type": "code",
   "execution_count": null,
   "id": "3cf7b604-4427-48e8-9ef8-b8ca299614f9",
   "metadata": {},
   "outputs": [],
   "source": [
    "ridge_reg = Ridge(alpha=0.5)\n",
    "\n",
    "ridge_reg = ridge_reg.fit(x_train, y_train)\n",
    "\n",
    "predicted_vals = ridge_reg.predict(x_test)\n",
    "\n",
    "ridge_rmse = mean_squared_error(y_test, predicted_vals)\n",
    "\n",
    "print(\"The Root Mean Squared Error is: \", round(ridge_rmse, 3))"
   ]
  },
  {
   "cell_type": "code",
   "execution_count": null,
   "id": "965c179c-3cf0-4e55-9830-ab47a7c7c113",
   "metadata": {},
   "outputs": [],
   "source": [
    "print(\"No change in RMSE\")"
   ]
  },
  {
   "cell_type": "markdown",
   "id": "52728734-5a1c-450e-b3eb-9c71cb7f3f01",
   "metadata": {},
   "source": [
    "### Question 24\n",
    "\n",
    "Train a lasso regression model with default value and obtain the new feature weights with it. How many of the features have non-zero feature weights?"
   ]
  },
  {
   "cell_type": "code",
   "execution_count": null,
   "id": "0874ab8b-eb46-4665-9a7e-df004b0d7323",
   "metadata": {},
   "outputs": [],
   "source": [
    "lasso_reg = Lasso(alpha=0.5)\n",
    "\n",
    "lasso_reg = lasso_reg.fit(x_train, y_train)\n",
    "\n",
    "weight_df = pd.Series(lasso_reg.coef_, features_df.columns )\n",
    "\n",
    "weight_df\n"
   ]
  },
  {
   "cell_type": "markdown",
   "id": "271f423a-85ad-4ca6-98f9-2d5333fcabb1",
   "metadata": {},
   "source": [
    "### Question 25\n",
    "\n",
    "What is the new RMSE with the Lasso Regression on the test set?"
   ]
  },
  {
   "cell_type": "code",
   "execution_count": null,
   "id": "d821410d-6af5-454e-8baa-7ae1c293dcf1",
   "metadata": {},
   "outputs": [],
   "source": [
    "predictions = lasso_reg.predict(x_train)\n",
    "# print(predictions.shape)\n",
    "# print(y_test.shape)\n",
    "predictions = pd.DataFrame(predictions).sample(n=len(y_test), replace=False)\n",
    "lasso_rmse = mean_squared_error(y_test, predictions)\n",
    "\n",
    "print(\"The Root Mean Squared Error is: \", round(ridge_rmse, 3))"
   ]
  }
 ],
 "metadata": {
  "kernelspec": {
   "display_name": "Python 3 (ipykernel)",
   "language": "python",
   "name": "python3"
  },
  "language_info": {
   "codemirror_mode": {
    "name": "ipython",
    "version": 3
   },
   "file_extension": ".py",
   "mimetype": "text/x-python",
   "name": "python",
   "nbconvert_exporter": "python",
   "pygments_lexer": "ipython3",
   "version": "3.10.7"
  }
 },
 "nbformat": 4,
 "nbformat_minor": 5
}
